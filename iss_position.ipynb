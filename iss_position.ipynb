{
 "cells": [
  {
   "cell_type": "code",
   "execution_count": 1,
   "metadata": {},
   "outputs": [],
   "source": [
    "from requests import get\n",
    "from uszipcode import SearchEngine\n",
    "import geopy.distance\n",
    "import tkinter as tk\n",
    "import matplotlib.pyplot as plt\n",
    "import mplleaflet\n",
    "from IPython.display import IFrame\n",
    "\n",
    "#Get request from International Space Station API\n",
    "request = get('http://api.open-notify.org/iss-now.json')\n",
    "iss_info = request.json()\n",
    "\n",
    "#Get ISS latitude and longitude \n",
    "iss_position = iss_info['iss_position']\n",
    "iss_latitude = iss_position['latitude']\n",
    "iss_longitude = iss_position['longitude']\n",
    "iss_coordinates = (iss_latitude, iss_longitude)\n",
    "\n",
    "#Calculate distance from entered zipcode to the ISS\n",
    "def distance_to_iss():\n",
    "    #Get zipcode from GUI entry\n",
    "    zipcode = zipcode_entry.get()\n",
    "\n",
    "    #Get information about zipcode\n",
    "    search = SearchEngine(simple_zipcode=True)\n",
    "    zipcode_search = search.by_zipcode(zipcode)\n",
    "\n",
    "    #Get zipcode latitude and longitude\n",
    "    zipcode_latitude = zipcode_search.lat\n",
    "    zipcode_longitude = zipcode_search.lng\n",
    "    zipcode_coordinates = (zipcode_latitude, zipcode_longitude)\n",
    "\n",
    "    #Calculate distance using zipcode and ISS coordinates\n",
    "    distance = geopy.distance.distance(iss_coordinates, zipcode_coordinates).mi\n",
    "\n",
    "    #Display results rounded to the 2 decimal place\n",
    "    result_label['text'] = f\"{round(distance, 2)} miles away\"\n",
    "\n",
    "#Create GUI window\n",
    "window = tk.Tk()\n",
    "window.title(\"International Space Station\")\n",
    "\n",
    "#Create zipcode entry box\n",
    "zipcode_entry = tk.Entry(window, width=15)\n",
    "zipcode_label = tk.Label(window, text=\"Enter Zipcode\")\n",
    "\n",
    "#Place zipcode entry in window\n",
    "zipcode_entry.grid(row=0, column=0)\n",
    "zipcode_label.grid(row=1, column=0)\n",
    "\n",
    "#Create button to calculate distance\n",
    "button = tk.Button(\n",
    "    master=window,\n",
    "    text=\"Find ISS\",\n",
    "    command=distance_to_iss)\n",
    "\n",
    "#Label result\n",
    "result_label = tk.Label(master=window, text=\"miles away\")\n",
    "\n",
    "#Place GUI widgets in window\n",
    "zipcode_entry.grid(row=0, column=0, padx=10)\n",
    "button.grid(row=0, column=2, pady=10)\n",
    "result_label.grid(row=0, column=3, padx=10)\n",
    "\n",
    "#Display window\n",
    "window.mainloop()"
   ]
  },
  {
   "cell_type": "code",
   "execution_count": 4,
   "metadata": {},
   "outputs": [
    {
     "name": "stderr",
     "output_type": "stream",
     "text": [
      "/usr/local/lib/python3.7/site-packages/IPython/core/display.py:717: UserWarning: Consider using IPython.display.IFrame instead\n",
      "  warnings.warn(\"Consider using IPython.display.IFrame instead\")\n"
     ]
    },
    {
     "data": {
      "text/html": [
       "<iframe src=\"data:text/html;base64,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\" width=\"100%\" height=\"240\"></iframe>"
      ],
      "text/plain": [
       "<IPython.core.display.HTML object>"
      ]
     },
     "execution_count": 4,
     "metadata": {},
     "output_type": "execute_result"
    }
   ],
   "source": [
    "#Display map of ISS current location\n",
    "plt.plot(iss_longitude, iss_latitude, 'rs')\n",
    "mplleaflet.display()"
   ]
  }
 ],
 "metadata": {
  "kernelspec": {
   "display_name": "Python 3",
   "language": "python",
   "name": "python3"
  },
  "language_info": {
   "codemirror_mode": {
    "name": "ipython",
    "version": 3
   },
   "file_extension": ".py",
   "mimetype": "text/x-python",
   "name": "python",
   "nbconvert_exporter": "python",
   "pygments_lexer": "ipython3",
   "version": "3.7.7"
  }
 },
 "nbformat": 4,
 "nbformat_minor": 4
}
